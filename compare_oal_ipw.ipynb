{
 "cells": [
  {
   "cell_type": "code",
   "execution_count": 1,
   "metadata": {},
   "outputs": [
    {
     "data": {
      "text/html": [
       "<div>\n",
       "<style scoped>\n",
       "    .dataframe tbody tr th:only-of-type {\n",
       "        vertical-align: middle;\n",
       "    }\n",
       "\n",
       "    .dataframe tbody tr th {\n",
       "        vertical-align: top;\n",
       "    }\n",
       "\n",
       "    .dataframe thead th {\n",
       "        text-align: right;\n",
       "    }\n",
       "</style>\n",
       "<table border=\"1\" class=\"dataframe\">\n",
       "  <thead>\n",
       "    <tr style=\"text-align: right;\">\n",
       "      <th></th>\n",
       "      <th>ate</th>\n",
       "      <th>method</th>\n",
       "      <th>rep</th>\n",
       "    </tr>\n",
       "  </thead>\n",
       "  <tbody>\n",
       "    <tr>\n",
       "      <th>0</th>\n",
       "      <td>0.160082</td>\n",
       "      <td>OAL</td>\n",
       "      <td>0</td>\n",
       "    </tr>\n",
       "    <tr>\n",
       "      <th>1</th>\n",
       "      <td>0.549702</td>\n",
       "      <td>Conf</td>\n",
       "      <td>0</td>\n",
       "    </tr>\n",
       "    <tr>\n",
       "      <th>2</th>\n",
       "      <td>0.098113</td>\n",
       "      <td>Targ</td>\n",
       "      <td>0</td>\n",
       "    </tr>\n",
       "    <tr>\n",
       "      <th>3</th>\n",
       "      <td>0.101669</td>\n",
       "      <td>PotConf</td>\n",
       "      <td>0</td>\n",
       "    </tr>\n",
       "  </tbody>\n",
       "</table>\n",
       "</div>"
      ],
      "text/plain": [
       "        ate   method  rep\n",
       "0  0.160082      OAL    0\n",
       "1  0.549702     Conf    0\n",
       "2  0.098113     Targ    0\n",
       "3  0.101669  PotConf    0"
      ]
     },
     "execution_count": 1,
     "metadata": {},
     "output_type": "execute_result"
    }
   ],
   "source": [
    "import warnings\n",
    "import pandas as pd\n",
    "import seaborn as sns\n",
    "import matplotlib.pyplot as plt\n",
    "from collections import defaultdict\n",
    "\n",
    "from outcome_adaptive_lasso import calc_outcome_adaptive_lasso, generate_synthetic_dataset, calc_ate_vanilla_ipw\n",
    "\n",
    "warnings.filterwarnings(action='ignore') # ignore sklearn's ConvergenceWarning\n",
    "\n",
    "res_dict = defaultdict(list)  # {'sample_id': [], 'number_samples': [], 'method': [], 'error': []}\n",
    "for rep in range(1000):\n",
    "    df = generate_synthetic_dataset(n=200, d=100, rho=0, eta=0, scenario_num=4)\n",
    "    ate_oal = calc_outcome_adaptive_lasso(df['A'], df['Y'], df[[col for col in df if col.startswith('X')]])\n",
    "    ate_conf = calc_ate_vanilla_ipw(df['A'], df['Y'], df[[col for col in df if col.startswith('Xc')]])\n",
    "    ate_targ = calc_ate_vanilla_ipw(df['A'], df['Y'], df[[col for col in df if col.startswith('Xc')] +\n",
    "                                                             [col for col in df if col.startswith('Xp')]])\n",
    "    ate_pot_conf = calc_ate_vanilla_ipw(df['A'], df['Y'], df[[col for col in df if col.startswith('Xc')] +\n",
    "                                                             [col for col in df if col.startswith('Xp')] +\n",
    "                                                             [col for col in df if col.startswith('Xi')]])\n",
    "    res_dict['ate'].extend([ate_oal, ate_conf, ate_targ, ate_pot_conf])\n",
    "    res_dict['method'].extend(['OAL', 'Conf', 'Targ', 'PotConf'])\n",
    "    res_dict['rep'].extend(4*[rep])\n",
    "\n",
    "df_res = pd.DataFrame(res_dict)\n",
    "df_res.head(4)"
   ]
  },
  {
   "cell_type": "code",
   "execution_count": 2,
   "metadata": {},
   "outputs": [
    {
     "data": {
      "image/png": "[encoded data removed]",
      "text/plain": [
       "<Figure size 576x576 with 1 Axes>"
      ]
     },
     "metadata": {
      "needs_background": "light"
     },
     "output_type": "display_data"
    }
   ],
   "source": [
    "fig, ax = plt.subplots(1,1,figsize=(8,8))\n",
    "sns.boxplot(x='method', y='ate', data=df_res, ax=ax, palette=sns.color_palette(\"Set1\"));\n",
    "ax.grid()\n",
    "ax.set_title('Outcome Adaptive LASSO vs different IPW alternatives');\n",
    "fig.savefig(\"compare_oal_ipw_output\", dpi=300)"
   ]
  }
 ],
 "metadata": {
  "kernelspec": {
   "display_name": "Python 3",
   "language": "python",
   "name": "python3"
  },
  "language_info": {
   "codemirror_mode": {
    "name": "ipython",
    "version": 3
   },
   "file_extension": ".py",
   "mimetype": "text/x-python",
   "name": "python",
   "nbconvert_exporter": "python",
   "pygments_lexer": "ipython3",
   "version": "3.7.1"
  }
 },
 "nbformat": 4,
 "nbformat_minor": 2
}
